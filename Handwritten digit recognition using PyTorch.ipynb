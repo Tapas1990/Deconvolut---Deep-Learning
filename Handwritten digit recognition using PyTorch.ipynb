{
 "cells": [
  {
   "cell_type": "code",
   "execution_count": 1,
   "metadata": {
    "ExecuteTime": {
     "end_time": "2020-12-05T04:28:10.685690Z",
     "start_time": "2020-12-05T04:28:08.987343Z"
    }
   },
   "outputs": [],
   "source": [
    "import torch\n",
    "import torch.nn as nn\n",
    "import torchvision.datasets as datasets \n",
    "import torchvision.transforms as transforms"
   ]
  },
  {
   "cell_type": "code",
   "execution_count": 2,
   "metadata": {
    "ExecuteTime": {
     "end_time": "2020-12-05T04:28:10.699690Z",
     "start_time": "2020-12-05T04:28:10.689913Z"
    }
   },
   "outputs": [],
   "source": [
    "input_size = 784        #Number of input neurons (image pixels)\n",
    "hidden_size = 400       #Number of hidden neurons\n",
    "out_size = 10           #Number of classes (0-9) \n",
    "epochs = 20             #How many times we pass our entire dataset into our network \n",
    "batch_size = 100        #Input size of the data during one iteration \n",
    "#batch_size=20\n",
    "learning_rate = 0.001   #How fast we are learning\n",
    "#learning_rate=0.01"
   ]
  },
  {
   "cell_type": "code",
   "execution_count": 3,
   "metadata": {
    "ExecuteTime": {
     "end_time": "2020-12-05T04:28:10.784598Z",
     "start_time": "2020-12-05T04:28:10.707670Z"
    }
   },
   "outputs": [],
   "source": [
    "train_dataset = datasets.MNIST(root='./data',\n",
    "                           train=True,\n",
    "                           transform=transforms.ToTensor(),\n",
    "                           download=True)"
   ]
  },
  {
   "cell_type": "code",
   "execution_count": 4,
   "metadata": {
    "ExecuteTime": {
     "end_time": "2020-12-05T04:28:10.816659Z",
     "start_time": "2020-12-05T04:28:10.792576Z"
    }
   },
   "outputs": [],
   "source": [
    "\n",
    "test_dataset = datasets.MNIST(root='./data',\n",
    "                           train=False,\n",
    "                           transform=transforms.ToTensor())\n"
   ]
  },
  {
   "cell_type": "code",
   "execution_count": 5,
   "metadata": {
    "ExecuteTime": {
     "end_time": "2020-12-05T04:28:10.841705Z",
     "start_time": "2020-12-05T04:28:10.823641Z"
    }
   },
   "outputs": [],
   "source": [
    "\n",
    "train_loader = torch.utils.data.DataLoader(dataset=train_dataset,\n",
    "                                          batch_size=batch_size,\n",
    "                                          shuffle=True)\n",
    "\n",
    "test_loader = torch.utils.data.DataLoader(dataset=test_dataset,\n",
    "                                          batch_size=batch_size,\n",
    "                                          shuffle=False)"
   ]
  },
  {
   "cell_type": "code",
   "execution_count": 6,
   "metadata": {
    "ExecuteTime": {
     "end_time": "2020-12-05T04:35:03.189571Z",
     "start_time": "2020-12-05T04:28:10.847690Z"
    }
   },
   "outputs": [
    {
     "name": "stdout",
     "output_type": "stream",
     "text": [
      "Epoch [1/20], Training Loss: 0.239, Training Accuracy: 93.047%\n",
      "Epoch [2/20], Training Loss: 0.087, Training Accuracy: 97.342%\n",
      "Epoch [3/20], Training Loss: 0.056, Training Accuracy: 98.200%\n",
      "Epoch [4/20], Training Loss: 0.039, Training Accuracy: 98.735%\n",
      "Epoch [5/20], Training Loss: 0.027, Training Accuracy: 99.135%\n",
      "Epoch [6/20], Training Loss: 0.024, Training Accuracy: 99.225%\n",
      "Epoch [7/20], Training Loss: 0.019, Training Accuracy: 99.408%\n",
      "Epoch [8/20], Training Loss: 0.019, Training Accuracy: 99.343%\n",
      "Epoch [9/20], Training Loss: 0.013, Training Accuracy: 99.570%\n",
      "Epoch [10/20], Training Loss: 0.012, Training Accuracy: 99.562%\n",
      "Epoch [11/20], Training Loss: 0.013, Training Accuracy: 99.578%\n",
      "Epoch [12/20], Training Loss: 0.012, Training Accuracy: 99.610%\n",
      "Epoch [13/20], Training Loss: 0.010, Training Accuracy: 99.667%\n",
      "Epoch [14/20], Training Loss: 0.012, Training Accuracy: 99.607%\n",
      "Epoch [15/20], Training Loss: 0.009, Training Accuracy: 99.693%\n",
      "Epoch [16/20], Training Loss: 0.007, Training Accuracy: 99.757%\n",
      "Epoch [17/20], Training Loss: 0.010, Training Accuracy: 99.718%\n",
      "Epoch [18/20], Training Loss: 0.006, Training Accuracy: 99.818%\n",
      "Epoch [19/20], Training Loss: 0.009, Training Accuracy: 99.708%\n",
      "Epoch [20/20], Training Loss: 0.007, Training Accuracy: 99.767%\n",
      "DONE TRAINING!\n",
      "Accuracy of the network on the 10000 test images: 98.18 %\n"
     ]
    }
   ],
   "source": [
    "class Net(nn.Module):\n",
    "    def __init__(self, input_size, hidden_size, out_size):\n",
    "        super(Net, self).__init__()                    \n",
    "        self.fc1 = nn.Linear(input_size, hidden_size)    #First Layer                           \n",
    "        self.fc2 = nn.Linear(hidden_size, hidden_size)      #Second Layer Activation\n",
    "        self.fc3 = nn.Linear(hidden_size, out_size)\n",
    "        self.relu = nn.ReLU()\n",
    "        self.init_weights()\n",
    "        \n",
    "    def init_weights(self):\n",
    "        nn.init.kaiming_normal_(self.fc1.weight)\n",
    "        nn.init.kaiming_normal_(self.fc2.weight)\n",
    "\n",
    "    def forward(self, x):                          \n",
    "        out = self.fc1(x)\n",
    "        out = self.relu(out)\n",
    "        out = self.fc2(out)\n",
    "        out = self.relu(out)\n",
    "        out = self.fc3(out)\n",
    "        return out\n",
    "    \n",
    "#Create an object of the class, which represents our network \n",
    "net = Net(input_size, hidden_size, out_size)\n",
    "CUDA = torch.cuda.is_available()\n",
    "if CUDA:\n",
    "    net = net.cuda()\n",
    "#The loss function. The Cross Entropy loss comes along with Softmax. Therefore, no need to specify Softmax as well\n",
    "criterion = nn.CrossEntropyLoss()\n",
    "optimizer = torch.optim.Adam(net.parameters(), lr=learning_rate)\n",
    "#optimizer = torch.optim.SGD(net.parameters(), lr=learning_rate)\n",
    "#Train the network\n",
    "for epoch in range(epochs):\n",
    "    correct_train = 0\n",
    "    running_loss = 0\n",
    "    for i, (images, labels) in enumerate(train_loader):   \n",
    "        #Flatten the image from size (batch,1,28,28) --> (100,1,28,28) where 1 represents the number of channels (grayscale-->1),\n",
    "        # to size (100,784) and wrap it in a variable\n",
    "        images = images.view(-1, 28*28)    \n",
    "        if CUDA:\n",
    "            images = images.cuda()\n",
    "            labels = labels.cuda()\n",
    "            \n",
    "        outputs = net(images)       \n",
    "        _, predicted = torch.max(outputs.data, 1)                                              \n",
    "        correct_train += (predicted == labels).sum() \n",
    "        loss = criterion(outputs, labels)                 # Difference between the actual and predicted (loss function)\n",
    "        running_loss += loss.item()\n",
    "        optimizer.zero_grad() \n",
    "        loss.backward()                                   # Backpropagation\n",
    "        optimizer.step()                                  # Update the weights\n",
    "        \n",
    "    print('Epoch [{}/{}], Training Loss: {:.3f}, Training Accuracy: {:.3f}%'.format\n",
    "          (epoch+1, epochs, running_loss/len(train_loader), (100*correct_train.double()/len(train_dataset))))\n",
    "print(\"DONE TRAINING!\")\n",
    "\n",
    "with torch.no_grad():\n",
    "    correct = 0\n",
    "    for images, labels in test_loader:\n",
    "        if CUDA:\n",
    "            images = images.cuda()\n",
    "            labels = labels.cuda()\n",
    "        images = images.view(-1, 28*28)\n",
    "        outputs = net(images)\n",
    "        _, predicted = torch.max(outputs.data, 1)\n",
    "        correct += (predicted == labels).sum().item()\n",
    "\n",
    "    print('Accuracy of the network on the 10000 test images: {} %'.format(100 * correct / len(test_dataset)))"
   ]
  },
  {
   "cell_type": "code",
   "execution_count": 7,
   "metadata": {
    "ExecuteTime": {
     "end_time": "2020-12-05T04:35:03.200538Z",
     "start_time": "2020-12-05T04:35:03.195550Z"
    }
   },
   "outputs": [],
   "source": [
    "#  lr = 0.001 \n",
    "# batch_size = 20\n",
    "#  optimiser = ADAM\n",
    "# Accuracy : 97.89 % after 10 epochs"
   ]
  },
  {
   "cell_type": "code",
   "execution_count": 8,
   "metadata": {
    "ExecuteTime": {
     "end_time": "2020-12-05T04:35:03.210510Z",
     "start_time": "2020-12-05T04:35:03.204526Z"
    }
   },
   "outputs": [],
   "source": [
    "# batch_size = 100 \n",
    "# optimiser = Adam\n",
    "# Epoch [1/10], Training Loss: 0.235, Training Accuracy: 93.155%\n",
    "# Epoch [2/10], Training Loss: 0.086, Training Accuracy: 97.315%\n",
    "# Epoch [3/10], Training Loss: 0.056, Training Accuracy: 98.290%\n",
    "# Epoch [4/10], Training Loss: 0.039, Training Accuracy: 98.740%\n",
    "# Epoch [5/10], Training Loss: 0.031, Training Accuracy: 99.027%\n",
    "# Epoch [6/10], Training Loss: 0.024, Training Accuracy: 99.177%\n",
    "# Epoch [7/10], Training Loss: 0.019, Training Accuracy: 99.360%\n",
    "# Epoch [8/10], Training Loss: 0.015, Training Accuracy: 99.502%\n",
    "# Epoch [9/10], Training Loss: 0.015, Training Accuracy: 99.508%\n",
    "# Epoch [10/10], Training Loss: 0.012, Training Accuracy: 99.570%\n",
    "# DONE TRAINING!\n",
    "# Accuracy of the network on the 10000 test images: 97.89 %"
   ]
  },
  {
   "cell_type": "code",
   "execution_count": 9,
   "metadata": {
    "ExecuteTime": {
     "end_time": "2020-12-05T04:35:03.221480Z",
     "start_time": "2020-12-05T04:35:03.214499Z"
    }
   },
   "outputs": [],
   "source": [
    "# lr = 0.01\n",
    "#  batch_size = 20\n",
    "#  optimiser = SGD\n",
    "#  Accuracy : 97.37 % after 10 epochs"
   ]
  },
  {
   "cell_type": "code",
   "execution_count": null,
   "metadata": {},
   "outputs": [],
   "source": []
  },
  {
   "cell_type": "code",
   "execution_count": null,
   "metadata": {},
   "outputs": [],
   "source": []
  },
  {
   "cell_type": "code",
   "execution_count": null,
   "metadata": {},
   "outputs": [],
   "source": []
  }
 ],
 "metadata": {
  "kernelspec": {
   "display_name": "Python 3",
   "language": "python",
   "name": "python3"
  },
  "language_info": {
   "codemirror_mode": {
    "name": "ipython",
    "version": 3
   },
   "file_extension": ".py",
   "mimetype": "text/x-python",
   "name": "python",
   "nbconvert_exporter": "python",
   "pygments_lexer": "ipython3",
   "version": "3.8.3"
  },
  "toc": {
   "base_numbering": 1,
   "nav_menu": {},
   "number_sections": true,
   "sideBar": true,
   "skip_h1_title": false,
   "title_cell": "Table of Contents",
   "title_sidebar": "Contents",
   "toc_cell": false,
   "toc_position": {},
   "toc_section_display": true,
   "toc_window_display": false
  },
  "varInspector": {
   "cols": {
    "lenName": 16,
    "lenType": 16,
    "lenVar": 40
   },
   "kernels_config": {
    "python": {
     "delete_cmd_postfix": "",
     "delete_cmd_prefix": "del ",
     "library": "var_list.py",
     "varRefreshCmd": "print(var_dic_list())"
    },
    "r": {
     "delete_cmd_postfix": ") ",
     "delete_cmd_prefix": "rm(",
     "library": "var_list.r",
     "varRefreshCmd": "cat(var_dic_list()) "
    }
   },
   "types_to_exclude": [
    "module",
    "function",
    "builtin_function_or_method",
    "instance",
    "_Feature"
   ],
   "window_display": false
  }
 },
 "nbformat": 4,
 "nbformat_minor": 4
}
